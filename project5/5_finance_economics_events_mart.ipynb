{
  "nbformat": 4,
  "nbformat_minor": 0,
  "metadata": {
    "colab": {
      "provenance": [],
      "name": "5_finance_economics_events_mart.ipynb"
    },
    "kernelspec": {
      "name": "python3",
      "display_name": "Python 3"
    },
    "language_info": {
      "name": "python"
    }
  },
  "cells": [
    {
      "cell_type": "markdown",
      "source": [
        "# **CS 329E Project 5: Mart Layer for Finance & Economics Data**\n",
        "## **Authors: Heng Cai & Chris Cherry**\n",
        "### **Purpose**\n",
        "This notebook creates the **mart layer** for our data warehouse, serving dashboards and reports.\n",
        "\n",
        "### **Business Questions Addressed**\n",
        "This project answers key economic and financial questions using aggregated data from our intermediate layer:\n",
        "\n",
        "1. **Which states have the highest and lowest GDP per capita?**\n",
        "2. **How does crime correlate with GDP and unemployment rates?**\n",
        "3. **What are the most energy-intensive states and sectors?**\n",
        "4. **How does government spending relate to economic performance?**\n",
        "5. **Which states have the highest mortality and natality rates?**\n",
        "6. **How do crime trends evolve over time in relation to economic indicators?**\n",
        "7. **How do state unemployment rates trend over time?**\n",
        "8. **Which states have the highest tax-funded expenditures per capita?**\n",
        "9. **Which states have the most balanced economy across energy consumption, GDP, and employment?**\n",
        "10. **What are the key economic drivers of population growth?**\n"
      ],
      "metadata": {
        "id": "WDk1YO8pS6ge"
      }
    },
    {
      "cell_type": "code",
      "source": [
        "from google.cloud import bigquery\n",
        "\n",
        "# Initialize BigQuery client\n",
        "project_id = \"steady-service-448416-k2\"\n",
        "client = bigquery.Client(project=project_id)\n",
        "\n",
        "print(\"BigQuery client created successfully!\")\n"
      ],
      "metadata": {
        "colab": {
          "base_uri": "https://localhost:8080/"
        },
        "id": "VDpH7xDvUWLQ",
        "executionInfo": {
          "status": "ok",
          "timestamp": 1741211623481,
          "user_tz": 360,
          "elapsed": 204,
          "user": {
            "displayName": "",
            "userId": ""
          }
        },
        "outputId": "411ab825-0bcf-40cc-af36-5ee95fcbbd9c"
      },
      "execution_count": 37,
      "outputs": [
        {
          "output_type": "stream",
          "name": "stdout",
          "text": [
            "BigQuery client created successfully!\n"
          ]
        }
      ]
    },
    {
      "cell_type": "markdown",
      "source": [
        "## **Creating the Mart Layer Dataset**\n",
        "Before defining our marts, we create the **BigQuery dataset** that will store them.\n",
        "\n",
        "The dataset **`finance_economics_events_mrt`** is created in **BigQuery (`us-central1` region)** to store all our marts. This ensures that all aggregated views are easily accessible for business intelligence (BI) and analytics.\n"
      ],
      "metadata": {
        "id": "XB14TouVU2Ms"
      }
    },
    {
      "cell_type": "code",
      "source": [
        "query = \"\"\"\n",
        "CREATE SCHEMA IF NOT EXISTS `steady-service-448416-k2.finance_economics_events_mrt`\n",
        "OPTIONS(location=\"us-central1\");\n",
        "\"\"\"\n",
        "job = client.query(query)\n",
        "job.result()\n",
        "print(\"Mart dataset `finance_economics_events_mrt` created successfully!\")\n"
      ],
      "metadata": {
        "id": "FW0_BzLFUZQO"
      },
      "execution_count": null,
      "outputs": []
    },
    {
      "cell_type": "markdown",
      "source": [
        "## **Mart 1: State GDP Per Capita**\n",
        "### **Business Question Addressed**\n",
        "- *Which states have the highest and lowest GDP per capita?*\n",
        "\n",
        "### **Data Sources Used**\n",
        "- `finance_economics_events_int.Gdp`\n",
        "- `finance_economics_events_int.Crime_Data`\n",
        "\n",
        "### **Purpose**\n",
        "This mart calculates **state-level real GDP per capita** by dividing the total **real GDP** by the **population** in each state. It helps business analysts compare economic prosperity across states.\n"
      ],
      "metadata": {
        "id": "1bYeoV-OVMf6"
      }
    },
    {
      "cell_type": "code",
      "source": [
        "query = \"\"\"\n",
        "CREATE OR REPLACE VIEW `steady-service-448416-k2.finance_economics_events_mrt.state_gdp_per_capita` AS\n",
        "SELECT\n",
        "    g.state,\n",
        "    SUM(g.real_gdp) / SUM(c.population) AS gdp_per_capita\n",
        "FROM `steady-service-448416-k2.finance_economics_events_int.Gdp` g\n",
        "JOIN `steady-service-448416-k2.finance_economics_events_int.Crime_Data` c\n",
        "ON g.state = c.state\n",
        "GROUP BY g.state;\n",
        "\"\"\"\n",
        "job = client.query(query)\n",
        "job.result()\n",
        "print(\"Mart `state_gdp_per_capita` created successfully!\")\n"
      ],
      "metadata": {
        "id": "TQoQfcehVIpX",
        "executionInfo": {
          "status": "ok",
          "timestamp": 1741211624392,
          "user_tz": 360,
          "elapsed": 695,
          "user": {
            "displayName": "",
            "userId": ""
          }
        },
        "colab": {
          "base_uri": "https://localhost:8080/"
        },
        "outputId": "1e2c9e3d-e2e6-44ac-a643-32a91db2facc"
      },
      "execution_count": 38,
      "outputs": [
        {
          "output_type": "stream",
          "name": "stdout",
          "text": [
            "Mart `state_gdp_per_capita` created successfully!\n"
          ]
        }
      ]
    },
    {
      "cell_type": "markdown",
      "source": [
        "## **Mart 2: Crime vs. GDP & Unemployment Analysis**\n",
        "### **Business Question Addressed**\n",
        "- *How does crime correlate with GDP and unemployment rates?*\n",
        "### **Data Sources Used**\n",
        "- `Crime_Data`\n",
        "- `Gdp`\n",
        "- `State_Level_Unemployment_Data`\n",
        "### **Purpose**\n",
        "Analyzes trends between crime rates, GDP, and unemployment.\n"
      ],
      "metadata": {
        "id": "FjTHf7p9VV0_"
      }
    },
    {
      "cell_type": "markdown",
      "source": [],
      "metadata": {
        "id": "ys-4sFtqVgEd"
      }
    },
    {
      "cell_type": "code",
      "source": [
        "query = \"\"\"\n",
        "CREATE OR REPLACE VIEW `steady-service-448416-k2.finance_economics_events_mrt.crime_gdp_unemployment_analysis` AS\n",
        "SELECT\n",
        "    c.state,\n",
        "    c.year,\n",
        "    AVG(c.crime) AS avg_crime_rate,\n",
        "    AVG(g.real_gdp) AS avg_gdp,\n",
        "    AVG(u.unemployment) AS avg_unemployment_rate\n",
        "FROM `steady-service-448416-k2.finance_economics_events_int.Crime_Data` c\n",
        "JOIN `steady-service-448416-k2.finance_economics_events_int.Gdp` g\n",
        "ON c.state = g.state AND c.year = g.year\n",
        "JOIN `steady-service-448416-k2.finance_economics_events_int.State_Level_Unemployment_Data` u\n",
        "ON c.state = u.state_and_area AND c.year = u.year\n",
        "GROUP BY c.state, c.year;\n",
        "\"\"\"\n",
        "job = client.query(query)\n",
        "job.result()\n",
        "print(\"Mart `crime_gdp_unemployment_analysis` created successfully!\")\n"
      ],
      "metadata": {
        "id": "SMhGom7TXTZT",
        "colab": {
          "base_uri": "https://localhost:8080/"
        },
        "executionInfo": {
          "status": "ok",
          "timestamp": 1741211624892,
          "user_tz": 360,
          "elapsed": 501,
          "user": {
            "displayName": "",
            "userId": ""
          }
        },
        "outputId": "5afce98c-fc3e-4a3e-b848-361578d96b50"
      },
      "execution_count": 39,
      "outputs": [
        {
          "output_type": "stream",
          "name": "stdout",
          "text": [
            "Mart `crime_gdp_unemployment_analysis` created successfully!\n"
          ]
        }
      ]
    },
    {
      "cell_type": "markdown",
      "source": [
        "## **Mart 3: State Energy Consumption**\n",
        "### **Business Question Addressed**\n",
        "- *What are the most energy-intensive states and sectors?*\n",
        "### **Data Sources Used**\n",
        "- `State_Energy_Consumption`\n",
        "### **Purpose**\n",
        "Aggregates energy consumption per state and sector.\n"
      ],
      "metadata": {
        "id": "y1qJNeNqVgGK"
      }
    },
    {
      "cell_type": "code",
      "source": [
        "query = \"\"\"\n",
        "CREATE OR REPLACE VIEW `steady-service-448416-k2.finance_economics_events_mrt.state_energy_analysis` AS\n",
        "SELECT\n",
        "    state,\n",
        "    sector,\n",
        "    SUM(value) AS total_energy_consumption\n",
        "FROM `steady-service-448416-k2.finance_economics_events_int.State_Energy_Consumption`\n",
        "GROUP BY state, sector;\n",
        "\"\"\"\n",
        "job = client.query(query)\n",
        "job.result()\n",
        "print(\"Mart `state_energy_analysis` created successfully!\")\n"
      ],
      "metadata": {
        "id": "HkOX8BT2Yu69",
        "executionInfo": {
          "status": "ok",
          "timestamp": 1741211625446,
          "user_tz": 360,
          "elapsed": 556,
          "user": {
            "displayName": "",
            "userId": ""
          }
        },
        "outputId": "900b82db-4fd8-49a2-a4cc-59585b940256",
        "colab": {
          "base_uri": "https://localhost:8080/"
        }
      },
      "execution_count": 40,
      "outputs": [
        {
          "output_type": "stream",
          "name": "stdout",
          "text": [
            "Mart `state_energy_analysis` created successfully!\n"
          ]
        }
      ]
    },
    {
      "cell_type": "markdown",
      "source": [
        "## **Mart 4: Government Spending & Economic Impact**\n",
        "### **Business Question Addressed**\n",
        "- *How does government spending relate to economic performance?*\n",
        "### **Data Sources Used**\n",
        "- `State_Exp_Data_1991_2024`\n",
        "- `Gdp`\n",
        "### **Purpose**\n",
        "Analyzes state expenditures and their impact on GDP.\n"
      ],
      "metadata": {
        "id": "6UbqPhHnV7NA"
      }
    },
    {
      "cell_type": "code",
      "source": [
        "query = \"\"\"\n",
        "CREATE OR REPLACE VIEW `steady-service-448416-k2.finance_economics_events_mrt.gov_spending_economic_impact` AS\n",
        "SELECT\n",
        "    s.state,\n",
        "    s.year,\n",
        "    AVG(s.total_sum) AS avg_state_expenditure,\n",
        "    AVG(g.real_gdp) AS avg_gdp\n",
        "FROM `steady-service-448416-k2.finance_economics_events_int.State_Exp_Data_1991_2024` s\n",
        "JOIN `steady-service-448416-k2.finance_economics_events_int.Gdp` g\n",
        "ON s.state = g.state AND s.year = g.year\n",
        "GROUP BY s.state, s.year;\n",
        "\"\"\"\n",
        "job = client.query(query)\n",
        "job.result()\n",
        "print(\"Mart `gov_spending_economic_impact` created successfully!\")\n"
      ],
      "metadata": {
        "colab": {
          "base_uri": "https://localhost:8080/"
        },
        "id": "SUZgb-U-ZNqh",
        "executionInfo": {
          "status": "ok",
          "timestamp": 1741211625813,
          "user_tz": 360,
          "elapsed": 368,
          "user": {
            "displayName": "",
            "userId": ""
          }
        },
        "outputId": "444a057b-3829-42e7-b7d5-cff93b0464d9"
      },
      "execution_count": 41,
      "outputs": [
        {
          "output_type": "stream",
          "name": "stdout",
          "text": [
            "Mart `gov_spending_economic_impact` created successfully!\n"
          ]
        }
      ]
    },
    {
      "cell_type": "markdown",
      "source": [
        "## **Mart 5: Mortality & Natality Rates**\n",
        "### **Business Question Addressed**\n",
        "- *Which states have the highest mortality and natality rates?*\n",
        "### **Data Sources Used**\n",
        "- `Mortality_And_Natality`\n",
        "### **Purpose**\n",
        "Compares average mortality and birth rates across states.\n"
      ],
      "metadata": {
        "id": "0Rje6647WHSC"
      }
    },
    {
      "cell_type": "code",
      "source": [
        "query = \"\"\"\n",
        "CREATE OR REPLACE VIEW `steady-service-448416-k2.finance_economics_events_mrt.mortality_natality_rates` AS\n",
        "SELECT\n",
        "    state,\n",
        "    indicator,\n",
        "    AVG(data_value) AS avg_rate\n",
        "FROM `steady-service-448416-k2.finance_economics_events_int.Mortality_And_Natality`\n",
        "GROUP BY state, indicator;\n",
        "\"\"\"\n",
        "job = client.query(query)\n",
        "job.result()\n",
        "print(\"Mart `mortality_natality_rates` created successfully!\")\n"
      ],
      "metadata": {
        "colab": {
          "base_uri": "https://localhost:8080/"
        },
        "id": "rnaGWB49IyOl",
        "executionInfo": {
          "status": "ok",
          "timestamp": 1741211626378,
          "user_tz": 360,
          "elapsed": 566,
          "user": {
            "displayName": "",
            "userId": ""
          }
        },
        "outputId": "1a6201e2-aaa4-4335-c8a4-ec49c8c9bb17"
      },
      "execution_count": 42,
      "outputs": [
        {
          "output_type": "stream",
          "name": "stdout",
          "text": [
            "Mart `mortality_natality_rates` created successfully!\n"
          ]
        }
      ]
    },
    {
      "cell_type": "markdown",
      "source": [
        "## **Mart 6: Crime Trends vs. Economy**\n",
        "### **Business Question Addressed**\n",
        "- *How do crime trends evolve over time in relation to economic indicators?*\n",
        "### **Data Sources Used**\n",
        "- `Crime_Data`\n",
        "- `Gdp`\n",
        "### **Purpose**\n",
        "Tracks crime rates alongside GDP trends.\n"
      ],
      "metadata": {
        "id": "-lDWmrlcWRWA"
      }
    },
    {
      "cell_type": "code",
      "source": [
        "query = \"\"\"\n",
        "CREATE OR REPLACE VIEW `steady-service-448416-k2.finance_economics_events_mrt.crime_trends_vs_economy` AS\n",
        "SELECT\n",
        "    c.state,\n",
        "    c.year,\n",
        "    AVG(c.crime_against_persons) AS crime_against_persons,\n",
        "    AVG(c.crime_against_property) AS crime_against_property,\n",
        "    AVG(g.real_gdp) AS avg_gdp\n",
        "FROM `steady-service-448416-k2.finance_economics_events_int.Crime_Data` c\n",
        "JOIN `steady-service-448416-k2.finance_economics_events_int.Gdp` g\n",
        "ON c.state = g.state AND c.year = g.year\n",
        "GROUP BY c.state, c.year;\n",
        "\"\"\"\n",
        "job = client.query(query)\n",
        "job.result()\n",
        "print(\"Mart `crime_trends_vs_economy` created successfully!\")\n"
      ],
      "metadata": {
        "colab": {
          "base_uri": "https://localhost:8080/"
        },
        "id": "QW0FXUmhJFTn",
        "executionInfo": {
          "status": "ok",
          "timestamp": 1741211626864,
          "user_tz": 360,
          "elapsed": 487,
          "user": {
            "displayName": "",
            "userId": ""
          }
        },
        "outputId": "7ca4ef35-7c71-41a0-8227-d54bdc43b566"
      },
      "execution_count": 43,
      "outputs": [
        {
          "output_type": "stream",
          "name": "stdout",
          "text": [
            "Mart `crime_trends_vs_economy` created successfully!\n"
          ]
        }
      ]
    },
    {
      "cell_type": "markdown",
      "source": [
        "## **Mart 7: State Unemployment Trends**\n",
        "### **Business Question Addressed**\n",
        "- *How do state unemployment rates trend over time?*\n",
        "### **Data Sources Used**\n",
        "- `State_Level_Unemployment_Data`\n",
        "### **Purpose**\n",
        "Analyzes state unemployment over different years.\n"
      ],
      "metadata": {
        "id": "LBEjzUmaWXUe"
      }
    },
    {
      "cell_type": "code",
      "source": [
        "query = \"\"\"\n",
        "CREATE OR REPLACE VIEW `steady-service-448416-k2.finance_economics_events_mrt.state_unemployment_trends` AS\n",
        "SELECT\n",
        "    state_and_area AS state,\n",
        "    year,\n",
        "    AVG(unemployment) AS avg_unemployment_rate\n",
        "FROM `steady-service-448416-k2.finance_economics_events_int.State_Level_Unemployment_Data`\n",
        "GROUP BY state, year;\n",
        "\"\"\"\n",
        "job = client.query(query)\n",
        "job.result()\n",
        "print(\"Mart `state_unemployment_trends` created successfully!\")\n"
      ],
      "metadata": {
        "id": "63f-3dotJRKe",
        "executionInfo": {
          "status": "ok",
          "timestamp": 1741211627256,
          "user_tz": 360,
          "elapsed": 393,
          "user": {
            "displayName": "",
            "userId": ""
          }
        },
        "outputId": "599ad40e-5748-4e41-d5c2-ad3084a344f1",
        "colab": {
          "base_uri": "https://localhost:8080/"
        }
      },
      "execution_count": 44,
      "outputs": [
        {
          "output_type": "stream",
          "name": "stdout",
          "text": [
            "Mart `state_unemployment_trends` created successfully!\n"
          ]
        }
      ]
    },
    {
      "cell_type": "markdown",
      "source": [
        "## **Mart 8: State Expenditure Per Capita**\n",
        "### **Business Question Addressed**\n",
        "- *Which states have the highest tax-funded expenditures per capita?*\n",
        "### **Data Sources Used**\n",
        "- `State_Exp_Data_1991_2024`\n",
        "- `Crime_Data`\n",
        "### **Purpose**\n",
        "Measures how much states spend per resident.\n"
      ],
      "metadata": {
        "id": "yWzbITiRWgos"
      }
    },
    {
      "cell_type": "code",
      "source": [
        "query = \"\"\"\n",
        "CREATE OR REPLACE VIEW `steady-service-448416-k2.finance_economics_events_mrt.state_expenditure_per_capita` AS\n",
        "SELECT\n",
        "    s.state,\n",
        "    s.year,\n",
        "    SUM(s.total_sum) / SUM(c.population) AS expenditure_per_capita\n",
        "FROM `steady-service-448416-k2.finance_economics_events_int.State_Exp_Data_1991_2024` s\n",
        "JOIN `steady-service-448416-k2.finance_economics_events_int.Crime_Data` c\n",
        "ON s.state = c.state AND s.year = c.year\n",
        "GROUP BY s.state, s.year;\n",
        "\"\"\"\n",
        "job = client.query(query)\n",
        "job.result()\n",
        "print(\"Mart `state_expenditure_per_capita` created successfully!\")\n"
      ],
      "metadata": {
        "id": "Zhyu9jQ4JTR0",
        "colab": {
          "base_uri": "https://localhost:8080/"
        },
        "executionInfo": {
          "status": "ok",
          "timestamp": 1741211627812,
          "user_tz": 360,
          "elapsed": 557,
          "user": {
            "displayName": "",
            "userId": ""
          }
        },
        "outputId": "b7dc4491-f00c-455e-b995-e0a26e9d41ac"
      },
      "execution_count": 45,
      "outputs": [
        {
          "output_type": "stream",
          "name": "stdout",
          "text": [
            "Mart `state_expenditure_per_capita` created successfully!\n"
          ]
        }
      ]
    },
    {
      "cell_type": "markdown",
      "source": [
        "## **Mart 9: Economic Balance Analysis**\n",
        "### **Business Question Addressed**\n",
        "- *Which states have the most balanced economy across energy consumption, GDP, and employment?*\n",
        "### **Data Sources Used**\n",
        "- `Gdp`\n",
        "- `State_Energy_Consumption`\n",
        "- `State_Level_Unemployment_Data`\n",
        "### **Purpose**\n",
        "Evaluates economic stability across multiple indicators.\n"
      ],
      "metadata": {
        "id": "t6EYnrpSXQOi"
      }
    },
    {
      "cell_type": "code",
      "source": [
        "query = \"\"\"\n",
        "CREATE OR REPLACE VIEW `steady-service-448416-k2.finance_economics_events_mrt.economic_balance_analysis` AS\n",
        "SELECT\n",
        "    g.state,\n",
        "    AVG(g.real_gdp) AS avg_gdp,\n",
        "    AVG(e.value) AS avg_energy_consumption,\n",
        "    AVG(u.unemployment) AS avg_unemployment_rate\n",
        "FROM `steady-service-448416-k2.finance_economics_events_int.Gdp` g\n",
        "JOIN `steady-service-448416-k2.finance_economics_events_int.State_Energy_Consumption` e\n",
        "ON g.state = e.state\n",
        "JOIN `steady-service-448416-k2.finance_economics_events_int.State_Level_Unemployment_Data` u\n",
        "ON g.state = u.state_and_area\n",
        "GROUP BY g.state;\n",
        "\"\"\"\n",
        "job = client.query(query)\n",
        "job.result()\n",
        "print(\"Mart `economic_balance_analysis` created successfully!\")\n"
      ],
      "metadata": {
        "colab": {
          "base_uri": "https://localhost:8080/"
        },
        "id": "Degyjsd3XTpy",
        "executionInfo": {
          "status": "ok",
          "timestamp": 1741212740804,
          "user_tz": 360,
          "elapsed": 1093,
          "user": {
            "displayName": "",
            "userId": ""
          }
        },
        "outputId": "64d0128e-f108-4361-e8b9-5039e595ea94"
      },
      "execution_count": 47,
      "outputs": [
        {
          "output_type": "stream",
          "name": "stdout",
          "text": [
            "Mart `economic_balance_analysis` created successfully!\n"
          ]
        }
      ]
    },
    {
      "cell_type": "markdown",
      "source": [
        "## **Mart 10: Economic Drivers of Population Growth**\n",
        "### **Business Question Addressed**\n",
        "- *What are the key economic drivers of population growth?*\n",
        "### **Data Sources Used**\n",
        "- `States_Cities`\n",
        "- `Gdp`\n",
        "- `State_Level_Unemployment_Data`\n",
        "### **Purpose**\n",
        "Identifies how GDP and employment affect population growth.\n"
      ],
      "metadata": {
        "id": "dFevGFJSWm59"
      }
    },
    {
      "cell_type": "code",
      "source": [
        "query = \"\"\"\n",
        "CREATE OR REPLACE VIEW `steady-service-448416-k2.finance_economics_events_mrt.economic_drivers_population_growth` AS\n",
        "SELECT\n",
        "    c.state_name,\n",
        "    AVG(c.total_population) AS avg_population,\n",
        "    AVG(g.real_gdp) AS avg_gdp,\n",
        "    AVG(u.unemployment) AS avg_unemployment_rate\n",
        "FROM `steady-service-448416-k2.finance_economics_events_int.States_Cities` c\n",
        "JOIN `steady-service-448416-k2.finance_economics_events_int.Gdp` g\n",
        "ON c.state_name = g.state\n",
        "JOIN `steady-service-448416-k2.finance_economics_events_int.State_Level_Unemployment_Data` u\n",
        "ON c.state_name = u.state_and_area\n",
        "GROUP BY c.state_name;\n",
        "\"\"\"\n",
        "job = client.query(query)\n",
        "job.result()\n",
        "print(\"Mart `economic_drivers_population_growth` created successfully!\")\n"
      ],
      "metadata": {
        "colab": {
          "base_uri": "https://localhost:8080/"
        },
        "id": "sT112-2KPhUk",
        "executionInfo": {
          "status": "ok",
          "timestamp": 1741211628255,
          "user_tz": 360,
          "elapsed": 444,
          "user": {
            "displayName": "",
            "userId": ""
          }
        },
        "outputId": "312e7492-bfce-4f22-9007-6f9b4ff7f82e"
      },
      "execution_count": 46,
      "outputs": [
        {
          "output_type": "stream",
          "name": "stdout",
          "text": [
            "Mart `economic_drivers_population_growth` created successfully!\n"
          ]
        }
      ]
    },
    {
      "cell_type": "markdown",
      "source": [
        "## **Design Choices and Data Observations**\n",
        "\n",
        "### **Non-Trivial Design Choices**\n",
        "In designing the marts, a key decision was made to prioritize **averages over totals** for metrics like unemployment rates, GDP, and crime rates in marts such as `crime_gdp_unemployment_analysis` and `economic_balance_analysis`. This choice was driven by the need to normalize data across states with varying populations and timeframes, ensuring comparability for business leaders analyzing trends rather than raw scale. For example, averaging `real_gdp` and `unemployment` over years and states provides a clearer picture of economic health than summing values, which could skew results toward larger states. This approach sacrifices granularity for broader insights, a trade-off deemed acceptable for dashboard usability.\n",
        "\n",
        "### **Data Issues Encountered**\n",
        "During the creation of these marts, no significant data issues were encountered. The intermediate tables (`Gdp`, `Crime_Data`, `State_Level_Unemployment_Data`, etc.) were consistent in structure, with no missing values, incorrect joins, or unexpected anomalies detected in the aggregation process. This reliability likely stems from prior cleaning in the intermediate layer, allowing the mart queries to execute smoothly. Any potential discrepancies (e.g., mismatched years or states) were implicitly handled by the `JOIN` conditions, ensuring data integrity."
      ],
      "metadata": {
        "id": "OC9_DZWQaI9l"
      }
    },
    {
      "cell_type": "markdown",
      "source": [
        "# **Conclusion**\n",
        "This project successfully created **10 marts** in BigQuery, each addressing a different business question.\n",
        "\n",
        "✅ The marts provide **aggregated insights** into GDP, crime, unemployment, energy consumption, and government spending.  \n",
        "✅ These marts serve as a **foundation for business intelligence dashboards** and data-driven decision-making.  \n",
        "✅ All marts were tested and validated using SQL queries in **Google BigQuery**.  \n"
      ],
      "metadata": {
        "id": "fFL91xJaT4an"
      }
    }
  ]
}