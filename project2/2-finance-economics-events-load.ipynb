{
  "cells": [
    {
      "cell_type": "markdown",
      "source": [
        "Create BQ dataset for storing the raw data"
      ],
      "metadata": {
        "id": "NQUV-y4Wd-sb"
      },
      "id": "NQUV-y4Wd-sb"
    },
    {
      "cell_type": "code",
      "id": "q7Wo0q4Udt7qxSmpiEXyxshk",
      "metadata": {
        "tags": [],
        "id": "q7Wo0q4Udt7qxSmpiEXyxshk",
        "colab": {
          "base_uri": "https://localhost:8080/"
        },
        "executionInfo": {
          "status": "ok",
          "timestamp": 1738897632112,
          "user_tz": 360,
          "elapsed": 392,
          "user": {
            "displayName": "",
            "userId": ""
          }
        },
        "outputId": "99d9d370-fe74-42ea-9185-1bbccadbeddc"
      },
      "source": [
        "from google.cloud import bigquery\n",
        "\n",
        "project_id = \"steady-service-448416-k2\"\n",
        "dataset = \"finance_economics_events_raw\"\n",
        "region = \"us-central1\"\n",
        "\n",
        "bq_client = bigquery.Client()\n",
        "\n",
        "dataset_id = bigquery.Dataset(f\"{project_id}.{dataset}\")\n",
        "dataset_id.location = region\n",
        "resp = bq_client.create_dataset(dataset_id, exists_ok=True)\n",
        "print(\"Created dataset {}.{}\".format(bq_client.project, resp.dataset_id))\n"
      ],
      "execution_count": 24,
      "outputs": [
        {
          "output_type": "stream",
          "name": "stdout",
          "text": [
            "Created dataset steady-service-448416-k2.finance_economics_events_raw\n"
          ]
        }
      ]
    },
    {
      "cell_type": "markdown",
      "source": [
        "Common functions"
      ],
      "metadata": {
        "id": "OhQAwaImeB7O"
      },
      "id": "OhQAwaImeB7O"
    },
    {
      "cell_type": "code",
      "source": [
        "from google.cloud import bigquery\n",
        "import re\n",
        "project_id = \"steady-service-448416-k2\"\n",
        "bucket = \"finance_economics_events\"\n",
        "parent_folder = \" initial-loads\"\n",
        "region = \"us-central1\"\n",
        "dataset = \"finance_economics_events_raw\"\n",
        "\n",
        "bq_client = bigquery.Client()\n",
        "\n",
        "def create_load_table_from_csv(folder,file_name, table, schema, delimiter=\",\", file_pattern=\"*.csv\",quote_character=\"\\\"\"):\n",
        "\n",
        "  uri = f\"gs://{bucket}/{parent_folder}/{folder}/{file_pattern}\"\n",
        "  table_id = f\"{project_id}.{dataset}.{table}\"\n",
        "\n",
        "  table = bigquery.Table(table_id, schema=schema)\n",
        "  table = bq_client.create_table(table, exists_ok=True)\n",
        "  print(\"Created table {}\".format(table.table_id))\n",
        "\n",
        "  # remove the data_source and load_time fields before loading the data,\n",
        "  # neither one is present in the csv\n",
        "  del schema[-1]\n",
        "  del schema[-1]\n",
        "  print(schema)\n",
        "\n",
        "  job_config = bigquery.LoadJobConfig(\n",
        "        schema=schema,\n",
        "        skip_leading_rows=1,\n",
        "        source_format=bigquery.SourceFormat.CSV,\n",
        "        write_disposition=bigquery.WriteDisposition.WRITE_APPEND,\n",
        "        field_delimiter=delimiter,\n",
        "        quote_character=quote_character,\n",
        "        max_bad_records=50,\n",
        "        allow_jagged_rows=True,\n",
        "        ignore_unknown_values=True\n",
        "      )\n",
        "\n",
        "  load_job = bq_client.load_table_from_uri(uri, table_id, job_config=job_config)\n",
        "  load_job.result()\n",
        "\n",
        "  destination_table = bq_client.get_table(table_id)\n",
        "  print(\"Loaded {} rows.\".format(destination_table.num_rows))\n",
        "\n",
        "\n",
        "def create_load_table_from_json(folder, file_name, table, schema):\n",
        "\n",
        "  table_id = f\"{project_id}.{dataset}.{table}\"\n",
        "\n",
        "  table = bigquery.Table(table_id, schema=schema)\n",
        "  table = bq_client.create_table(table, exists_ok=True)\n",
        "  print(\"Created table {}\".format(table.table_id))\n",
        "\n",
        "  # remove the data_source and load_time fields before loading the data,\n",
        "  # neither one is present in the json\n",
        "  del schema[-1]\n",
        "  del schema[-1]\n",
        "\n",
        "  #print(schema)\n",
        "\n",
        "  job_config = bigquery.LoadJobConfig(schema=schema,\n",
        "      source_format=bigquery.SourceFormat.NEWLINE_DELIMITED_JSON,\n",
        "      write_disposition = \"WRITE_EMPTY\"\n",
        "  )\n",
        "\n",
        "  uri = f\"gs://{bucket}/{parent_folder}/{folder}/{file_name}\"\n",
        "\n",
        "  load_job = bq_client.load_table_from_uri(\n",
        "      uri,\n",
        "      table_id,\n",
        "      location=region,\n",
        "      job_config=job_config,\n",
        "  )\n",
        "\n",
        "  load_job.result()\n",
        "\n",
        "  destination_table = bq_client.get_table(table_id)\n",
        "  print(\"Loaded {} rows.\".format(destination_table.num_rows))\n"
      ],
      "metadata": {
        "id": "okH6hXmGdsDf",
        "executionInfo": {
          "status": "ok",
          "timestamp": 1738897632112,
          "user_tz": 360,
          "elapsed": 1,
          "user": {
            "displayName": "",
            "userId": ""
          }
        }
      },
      "id": "okH6hXmGdsDf",
      "execution_count": 25,
      "outputs": []
    },
    {
      "cell_type": "markdown",
      "source": [
        "Adding us_geocode\n"
      ],
      "metadata": {
        "id": "gRlin2TTULjf"
      },
      "id": "gRlin2TTULjf"
    },
    {
      "cell_type": "code",
      "source": [
        "folder = \"US Geo Code\"\n",
        "file_name = \"*.csv\"\n",
        "table = \"us_geocode\"\n",
        "\n",
        "\n",
        "schema = [\n",
        "    bigquery.SchemaField(\"stateANDterritory\", \"STRING\", mode=\"REQUIRED\"),\n",
        "    bigquery.SchemaField(\"latitude\", \"FLOAT\", mode=\"REQUIRED\"),\n",
        "    bigquery.SchemaField(\"longitude\", \"FLOAT\", mode=\"REQUIRED\"),\n",
        "    bigquery.SchemaField(\"Name\", \"STRING\", mode=\"REQUIRED\"),\n",
        "    bigquery.SchemaField(\"_data_source\", \"STRING\", mode=\"REQUIRED\", default_value_expression=\"'US Geo Code'\"),\n",
        "    bigquery.SchemaField(\"_load_time\", \"TIMESTAMP\", mode=\"REQUIRED\", default_value_expression=\"CURRENT_TIMESTAMP\"),\n",
        "]\n",
        "\n",
        "\n",
        "create_load_table_from_csv(folder, file_name, table, schema)"
      ],
      "metadata": {
        "colab": {
          "base_uri": "https://localhost:8080/"
        },
        "id": "sibHhZyDg-qO",
        "executionInfo": {
          "status": "ok",
          "timestamp": 1738897635316,
          "user_tz": 360,
          "elapsed": 3205,
          "user": {
            "displayName": "",
            "userId": ""
          }
        },
        "outputId": "dc746a07-b8e3-4e87-bfe8-600febb4bb53"
      },
      "id": "sibHhZyDg-qO",
      "execution_count": 26,
      "outputs": [
        {
          "output_type": "stream",
          "name": "stdout",
          "text": [
            "Created table us_geocode\n",
            "[SchemaField('stateANDterritory', 'STRING', 'REQUIRED', None, None, (), None), SchemaField('latitude', 'FLOAT', 'REQUIRED', None, None, (), None), SchemaField('longitude', 'FLOAT', 'REQUIRED', None, None, (), None), SchemaField('Name', 'STRING', 'REQUIRED', None, None, (), None)]\n",
            "Loaded 122 rows.\n"
          ]
        }
      ]
    },
    {
      "cell_type": "markdown",
      "source": [
        "Adding mortality_and_natality"
      ],
      "metadata": {
        "id": "OQGww8k0sZDL"
      },
      "id": "OQGww8k0sZDL"
    },
    {
      "cell_type": "code",
      "source": [
        "from google.cloud import bigquery\n",
        "\n",
        "\n",
        "folder = \"Health\"\n",
        "file_name = \"*.csv\"\n",
        "\n",
        "\n",
        "table = \"mortality_and_natality\"\n",
        "\n",
        "schema = [\n",
        "    bigquery.SchemaField(\"State\", \"STRING\", mode=\"REQUIRED\"),\n",
        "    bigquery.SchemaField(\"Year\", \"INTEGER\", mode=\"REQUIRED\"),\n",
        "    bigquery.SchemaField(\"Month\", \"STRING\", mode=\"REQUIRED\"),\n",
        "    bigquery.SchemaField(\"Period\", \"STRING\", mode=\"REQUIRED\"),\n",
        "    bigquery.SchemaField(\"Indicator\", \"STRING\", mode=\"REQUIRED\"),\n",
        "    bigquery.SchemaField(\"Data Value\", \"INTEGER\", mode=\"REQUIRED\"),  # Fixed column name\n",
        "    bigquery.SchemaField(\"_data_source\", \"STRING\", mode=\"REQUIRED\", default_value_expression=\"'health'\"),  #WE MUST ADD THESE 2 ATTRINBUTES FOR EACH TABLE\n",
        "    bigquery.SchemaField(\"_load_time\", \"TIMESTAMP\", mode=\"REQUIRED\", default_value_expression=\"CURRENT_TIMESTAMP\"), #WE MUST ADD THESE 2 ATTRINBUTES FOR EACH TABLE\n",
        "]\n",
        "\n",
        "create_load_table_from_csv(folder, file_name, table, schema)\n"
      ],
      "metadata": {
        "colab": {
          "base_uri": "https://localhost:8080/"
        },
        "id": "9Q53R16kMryY",
        "executionInfo": {
          "status": "ok",
          "timestamp": 1738897638862,
          "user_tz": 360,
          "elapsed": 3548,
          "user": {
            "displayName": "",
            "userId": ""
          }
        },
        "outputId": "11ebb289-6f2e-46da-e7c9-1715203fd33e"
      },
      "id": "9Q53R16kMryY",
      "execution_count": 27,
      "outputs": [
        {
          "output_type": "stream",
          "name": "stdout",
          "text": [
            "Created table mortality_and_natality\n",
            "[SchemaField('State', 'STRING', 'REQUIRED', None, None, (), None), SchemaField('Year', 'INTEGER', 'REQUIRED', None, None, (), None), SchemaField('Month', 'STRING', 'REQUIRED', None, None, (), None), SchemaField('Period', 'STRING', 'REQUIRED', None, None, (), None), SchemaField('Indicator', 'STRING', 'REQUIRED', None, None, (), None), SchemaField('Data Value', 'INTEGER', 'REQUIRED', None, None, (), None)]\n",
            "Loaded 3960 rows.\n"
          ]
        }
      ]
    },
    {
      "cell_type": "markdown",
      "source": [
        "Adding state_exp_data_1991_2024_key"
      ],
      "metadata": {
        "id": "TaOpjRfTsi0m"
      },
      "id": "TaOpjRfTsi0m"
    },
    {
      "cell_type": "code",
      "source": [
        "from google.cloud import bigquery\n",
        "\n",
        "\n",
        "folder = \"State government budgets\"\n",
        "file_name = \"*.csv\"\n",
        "table = \"state_exp_data_1991_2024_key\"\n",
        "\n",
        "schema = [\n",
        "    bigquery.SchemaField(\"column_code\", \"STRING\", mode=\"REQUIRED\"),\n",
        "    bigquery.SchemaField(\"column_description\", \"STRING\", mode=\"REQUIRED\"),\n",
        "    bigquery.SchemaField(\"_data_source\", \"STRING\", mode=\"REQUIRED\", default_value_expression=\"'State Exp Report - KEY'\"),\n",
        "    bigquery.SchemaField(\"_load_time\", \"TIMESTAMP\", mode=\"REQUIRED\", default_value_expression=\"CURRENT_TIMESTAMP\"),\n",
        "]\n",
        "\n",
        "create_load_table_from_csv(folder, file_name, table, schema)"
      ],
      "metadata": {
        "colab": {
          "base_uri": "https://localhost:8080/"
        },
        "id": "7IV-mKv-SRPR",
        "executionInfo": {
          "status": "ok",
          "timestamp": 1738897641469,
          "user_tz": 360,
          "elapsed": 2610,
          "user": {
            "displayName": "",
            "userId": ""
          }
        },
        "outputId": "d5375a36-4060-4778-83b2-53214d6ca82b"
      },
      "id": "7IV-mKv-SRPR",
      "execution_count": 28,
      "outputs": [
        {
          "output_type": "stream",
          "name": "stdout",
          "text": [
            "Created table state_exp_data_1991_2024_key\n",
            "[SchemaField('column_code', 'STRING', 'REQUIRED', None, None, (), None), SchemaField('column_description', 'STRING', 'REQUIRED', None, None, (), None)]\n",
            "Loaded 3636 rows.\n"
          ]
        }
      ]
    },
    {
      "cell_type": "markdown",
      "source": [
        "Adding gdp"
      ],
      "metadata": {
        "id": "QqCT4gDzSLPE"
      },
      "id": "QqCT4gDzSLPE"
    },
    {
      "cell_type": "code",
      "source": [
        "from google.cloud import bigquery\n",
        "\n",
        "\n",
        "folder = \"GDP\"\n",
        "file_name = \"*.csv\"\n",
        "table = \"gdp\"\n",
        "\n",
        "schema = [\n",
        "    bigquery.SchemaField(\"year\", \"STRING\", mode=\"REQUIRED\"),\n",
        "    bigquery.SchemaField(\"state\", \"STRING\", mode=\"REQUIRED\"),\n",
        "    bigquery.SchemaField(\"category\", \"STRING\", mode=\"REQUIRED\"),\n",
        "    bigquery.SchemaField(\"value\", \"FLOAT\", mode=\"REQUIRED\"),\n",
        "    bigquery.SchemaField(\"_data_source\", \"STRING\", mode=\"REQUIRED\", default_value_expression=\"'GDP'\"),\n",
        "    bigquery.SchemaField(\"_load_time\", \"TIMESTAMP\", mode=\"REQUIRED\", default_value_expression=\"CURRENT_TIMESTAMP\"),\n",
        "]\n",
        "create_load_table_from_csv(folder, file_name, table, schema)\n"
      ],
      "metadata": {
        "colab": {
          "base_uri": "https://localhost:8080/"
        },
        "id": "1tsW4GQhSK4j",
        "executionInfo": {
          "status": "ok",
          "timestamp": 1738897644409,
          "user_tz": 360,
          "elapsed": 2941,
          "user": {
            "displayName": "",
            "userId": ""
          }
        },
        "outputId": "dd753f5a-a1de-464e-b264-3e9dcfc9c4b9"
      },
      "id": "1tsW4GQhSK4j",
      "execution_count": 29,
      "outputs": [
        {
          "output_type": "stream",
          "name": "stdout",
          "text": [
            "Created table gdp\n",
            "[SchemaField('year', 'STRING', 'REQUIRED', None, None, (), None), SchemaField('state', 'STRING', 'REQUIRED', None, None, (), None), SchemaField('category', 'STRING', 'REQUIRED', None, None, (), None), SchemaField('value', 'FLOAT', 'REQUIRED', None, None, (), None)]\n",
            "Loaded 1700 rows.\n"
          ]
        }
      ]
    },
    {
      "cell_type": "markdown",
      "source": [
        "Adding state_exp_data_1991_2024"
      ],
      "metadata": {
        "id": "oKuR7gJYswIM"
      },
      "id": "oKuR7gJYswIM"
    },
    {
      "cell_type": "code",
      "source": [
        "from google.cloud import bigquery\n",
        "\n",
        "folder = \"State government budgets\"\n",
        "file_name = \"*.csv\"\n",
        "table = \"state_exp_data_1991_2024\"\n",
        "\n",
        "\n",
        "schema = [\n",
        "    bigquery.SchemaField(\"YEAR\", \"STRING\", mode=\"REQUIRED\"),\n",
        "    bigquery.SchemaField(\"STATW\", \"STRING\", mode=\"REQUIRED\"),\n",
        "    bigquery.SchemaField(\"ELSED_GF\", \"FLOAT\", mode=\"NULLABLE\"),\n",
        "    bigquery.SchemaField(\"ELSED_FF\", \"FLOAT\", mode=\"NULLABLE\"),\n",
        "    bigquery.SchemaField(\"ELSED_OF\", \"FLOAT\", mode=\"NULLABLE\"),\n",
        "    bigquery.SchemaField(\"ELSED_BF\", \"FLOAT\", mode=\"NULLABLE\"),\n",
        "    bigquery.SchemaField(\"ELSED_TOT\", \"FLOAT\", mode=\"NULLABLE\"),\n",
        "    bigquery.SchemaField(\"HGRED_GF\", \"FLOAT\", mode=\"NULLABLE\"),\n",
        "    bigquery.SchemaField(\"HGRED_FF\", \"FLOAT\", mode=\"NULLABLE\"),\n",
        "    bigquery.SchemaField(\"HGRED_OF\", \"FLOAT\", mode=\"NULLABLE\"),\n",
        "    bigquery.SchemaField(\"HGRED_BF\", \"FLOAT\", mode=\"NULLABLE\"),\n",
        "    bigquery.SchemaField(\"HGRED_TOT\", \"FLOAT\", mode=\"NULLABLE\"),\n",
        "    bigquery.SchemaField(\"TANF_GF\", \"FLOAT\", mode=\"NULLABLE\"),\n",
        "    bigquery.SchemaField(\"TANF_FF\", \"FLOAT\", mode=\"NULLABLE\"),\n",
        "    bigquery.SchemaField(\"TANF_OF\", \"FLOAT\", mode=\"NULLABLE\"),\n",
        "    bigquery.SchemaField(\"TANF_BF\", \"FLOAT\", mode=\"NULLABLE\"),\n",
        "    bigquery.SchemaField(\"TANF_TOT\", \"FLOAT\", mode=\"NULLABLE\"),\n",
        "    bigquery.SchemaField(\"OTCA_GF\", \"FLOAT\", mode=\"NULLABLE\"),\n",
        "    bigquery.SchemaField(\"OTCA_FF\", \"FLOAT\", mode=\"NULLABLE\"),\n",
        "    bigquery.SchemaField(\"OTCA_OF\", \"FLOAT\", mode=\"NULLABLE\"),\n",
        "    bigquery.SchemaField(\"OTCA_BF\", \"FLOAT\", mode=\"NULLABLE\"),\n",
        "    bigquery.SchemaField(\"OTCA_TOT\", \"FLOAT\", mode=\"NULLABLE\"),\n",
        "    bigquery.SchemaField(\"MCAID_GF\", \"FLOAT\", mode=\"NULLABLE\"),\n",
        "    bigquery.SchemaField(\"MCAID_FF\", \"FLOAT\", mode=\"NULLABLE\"),\n",
        "    bigquery.SchemaField(\"MCAID_OF\", \"FLOAT\", mode=\"NULLABLE\"),\n",
        "    bigquery.SchemaField(\"MCAID_BF\", \"FLOAT\", mode=\"NULLABLE\"),\n",
        "    bigquery.SchemaField(\"MCAID_TOT\", \"FLOAT\", mode=\"NULLABLE\"),\n",
        "    bigquery.SchemaField(\"CORR_GF\", \"FLOAT\", mode=\"NULLABLE\"),\n",
        "    bigquery.SchemaField(\"CORR_FF\", \"FLOAT\", mode=\"NULLABLE\"),\n",
        "    bigquery.SchemaField(\"CORR_OF\", \"FLOAT\", mode=\"NULLABLE\"),\n",
        "    bigquery.SchemaField(\"CORR_BF\", \"FLOAT\", mode=\"NULLABLE\"),\n",
        "    bigquery.SchemaField(\"CORR_TOT\", \"FLOAT\", mode=\"NULLABLE\"),\n",
        "    bigquery.SchemaField(\"TRANS_GF\", \"FLOAT\", mode=\"NULLABLE\"),\n",
        "    bigquery.SchemaField(\"TRANS_FF\", \"FLOAT\", mode=\"NULLABLE\"),\n",
        "    bigquery.SchemaField(\"TRANS_OF\", \"FLOAT\", mode=\"NULLABLE\"),\n",
        "    bigquery.SchemaField(\"TRANS_BF\", \"FLOAT\", mode=\"NULLABLE\"),\n",
        "    bigquery.SchemaField(\"TRANS_TOT\", \"FLOAT\", mode=\"NULLABLE\"),\n",
        "    bigquery.SchemaField(\"OTHER_GF\", \"FLOAT\", mode=\"NULLABLE\"),\n",
        "    bigquery.SchemaField(\"OTHER_FF\", \"FLOAT\", mode=\"NULLABLE\"),\n",
        "    bigquery.SchemaField(\"OTHER_OF\", \"FLOAT\", mode=\"NULLABLE\"),\n",
        "    bigquery.SchemaField(\"OTHER_BF\", \"FLOAT\", mode=\"NULLABLE\"),\n",
        "    bigquery.SchemaField(\"OTHER_TOT\", \"FLOAT\", mode=\"NULLABLE\"),\n",
        "    bigquery.SchemaField(\"ELCAP_GF\", \"FLOAT\", mode=\"NULLABLE\"),\n",
        "    bigquery.SchemaField(\"ELCAP_FF\", \"FLOAT\", mode=\"NULLABLE\"),\n",
        "    bigquery.SchemaField(\"ELCAP_OF\", \"FLOAT\", mode=\"NULLABLE\"),\n",
        "    bigquery.SchemaField(\"ELCAP_BF\", \"FLOAT\", mode=\"NULLABLE\"),\n",
        "    bigquery.SchemaField(\"ELCAP_TOT\", \"FLOAT\", mode=\"NULLABLE\"),\n",
        "    bigquery.SchemaField(\"HEDCP_GF\", \"FLOAT\", mode=\"NULLABLE\"),\n",
        "    bigquery.SchemaField(\"HEDCP_FF\", \"FLOAT\", mode=\"NULLABLE\"),\n",
        "    bigquery.SchemaField(\"HEDCP_OF\", \"FLOAT\", mode=\"NULLABLE\"),\n",
        "    bigquery.SchemaField(\"HEDCP_BF\", \"FLOAT\", mode=\"NULLABLE\"),\n",
        "    bigquery.SchemaField(\"HEDCP_TOT\", \"FLOAT\", mode=\"NULLABLE\"),\n",
        "    bigquery.SchemaField(\"CORCP_GF\", \"FLOAT\", mode=\"NULLABLE\"),\n",
        "    bigquery.SchemaField(\"CORCP_FF\", \"FLOAT\", mode=\"NULLABLE\"),\n",
        "    bigquery.SchemaField(\"CORCP_OF\", \"FLOAT\", mode=\"NULLABLE\"),\n",
        "    bigquery.SchemaField(\"CORCP_BF\", \"FLOAT\", mode=\"NULLABLE\"),\n",
        "    bigquery.SchemaField(\"CORCP_TOT\", \"FLOAT\", mode=\"NULLABLE\"),\n",
        "    bigquery.SchemaField(\"TRCAP_GF\", \"FLOAT\", mode=\"NULLABLE\"),\n",
        "    bigquery.SchemaField(\"TRCAP_FF\", \"FLOAT\", mode=\"NULLABLE\"),\n",
        "    bigquery.SchemaField(\"TRCAP_OF\", \"FLOAT\", mode=\"NULLABLE\"),\n",
        "    bigquery.SchemaField(\"TRCAP_BF\", \"FLOAT\", mode=\"NULLABLE\"),\n",
        "    bigquery.SchemaField(\"TRCAP_TOT\", \"FLOAT\", mode=\"NULLABLE\"),\n",
        "    bigquery.SchemaField(\"HSCAP_GF\", \"FLOAT\", mode=\"NULLABLE\"),\n",
        "    bigquery.SchemaField(\"HSCAP_FF\", \"FLOAT\", mode=\"NULLABLE\"),\n",
        "    bigquery.SchemaField(\"HSCAP_OF\", \"FLOAT\", mode=\"NULLABLE\"),\n",
        "    bigquery.SchemaField(\"HSCAP_BF\", \"FLOAT\", mode=\"NULLABLE\"),\n",
        "    bigquery.SchemaField(\"HSCAP_TOT\", \"FLOAT\", mode=\"NULLABLE\"),\n",
        "    bigquery.SchemaField(\"ENVCP_GF\", \"FLOAT\", mode=\"NULLABLE\"),\n",
        "    bigquery.SchemaField(\"ENVCP_FF\", \"FLOAT\", mode=\"NULLABLE\"),\n",
        "    bigquery.SchemaField(\"ENVCP_OF\", \"FLOAT\", mode=\"NULLABLE\"),\n",
        "    bigquery.SchemaField(\"ENVCP_BF\", \"FLOAT\", mode=\"NULLABLE\"),\n",
        "    bigquery.SchemaField(\"ENVCP_TOT\", \"FLOAT\", mode=\"NULLABLE\"),\n",
        "    bigquery.SchemaField(\"OTHCP_GF\", \"FLOAT\", mode=\"NULLABLE\"),\n",
        "    bigquery.SchemaField(\"OTHCP_FF\", \"FLOAT\", mode=\"NULLABLE\"),\n",
        "    bigquery.SchemaField(\"OTHCP_OF\", \"FLOAT\", mode=\"NULLABLE\"),\n",
        "    bigquery.SchemaField(\"OTHCP_BF\", \"FLOAT\", mode=\"NULLABLE\"),\n",
        "    bigquery.SchemaField(\"OTHCP_TOT\", \"FLOAT\", mode=\"NULLABLE\"),\n",
        "    bigquery.SchemaField(\"GFTOT_CAPI\", \"FLOAT\", mode=\"NULLABLE\"),\n",
        "    bigquery.SchemaField(\"FFTOT_CAPI\", \"FLOAT\", mode=\"NULLABLE\"),\n",
        "    bigquery.SchemaField(\"OFTOT_CAPI\", \"FLOAT\", mode=\"NULLABLE\"),\n",
        "    bigquery.SchemaField(\"BFTOT_CAPI\", \"FLOAT\", mode=\"NULLABLE\"),\n",
        "    bigquery.SchemaField(\"TOTAL_CAPI\", \"FLOAT\", mode=\"NULLABLE\"),\n",
        "    bigquery.SchemaField(\"GFTOT_CAP\", \"FLOAT\", mode=\"NULLABLE\"),\n",
        "    bigquery.SchemaField(\"FFTOT_CAP\", \"FLOAT\", mode=\"NULLABLE\"),\n",
        "    bigquery.SchemaField(\"OFTOT_CAP\", \"FLOAT\", mode=\"NULLABLE\"),\n",
        "    bigquery.SchemaField(\"BFTOT_CAP\", \"FLOAT\", mode=\"NULLABLE\"),\n",
        "    bigquery.SchemaField(\"TOTAL_CAP\", \"FLOAT\", mode=\"NULLABLE\"),\n",
        "    bigquery.SchemaField(\"_data_source\", \"STRING\", mode=\"REQUIRED\", default_value_expression=\"'State Exp Report'\"),\n",
        "    bigquery.SchemaField(\"_load_time\", \"TIMESTAMP\", mode=\"REQUIRED\", default_value_expression=\"CURRENT_TIMESTAMP\"),\n",
        "]\n",
        "\n",
        "create_load_table_from_csv(folder, file_name, table, schema)\n"
      ],
      "metadata": {
        "id": "uVl1cigIpQaP",
        "executionInfo": {
          "status": "ok",
          "timestamp": 1738897648841,
          "user_tz": 360,
          "elapsed": 4433,
          "user": {
            "displayName": "",
            "userId": ""
          }
        },
        "outputId": "719fd456-f8ae-4141-f5f5-39f845ae50dd",
        "colab": {
          "base_uri": "https://localhost:8080/"
        }
      },
      "id": "uVl1cigIpQaP",
      "execution_count": 30,
      "outputs": [
        {
          "output_type": "stream",
          "name": "stdout",
          "text": [
            "Created table state_exp_data_1991_2024\n",
            "[SchemaField('YEAR', 'STRING', 'REQUIRED', None, None, (), None), SchemaField('STATW', 'STRING', 'REQUIRED', None, None, (), None), SchemaField('ELSED_GF', 'FLOAT', 'NULLABLE', None, None, (), None), SchemaField('ELSED_FF', 'FLOAT', 'NULLABLE', None, None, (), None), SchemaField('ELSED_OF', 'FLOAT', 'NULLABLE', None, None, (), None), SchemaField('ELSED_BF', 'FLOAT', 'NULLABLE', None, None, (), None), SchemaField('ELSED_TOT', 'FLOAT', 'NULLABLE', None, None, (), None), SchemaField('HGRED_GF', 'FLOAT', 'NULLABLE', None, None, (), None), SchemaField('HGRED_FF', 'FLOAT', 'NULLABLE', None, None, (), None), SchemaField('HGRED_OF', 'FLOAT', 'NULLABLE', None, None, (), None), SchemaField('HGRED_BF', 'FLOAT', 'NULLABLE', None, None, (), None), SchemaField('HGRED_TOT', 'FLOAT', 'NULLABLE', None, None, (), None), SchemaField('TANF_GF', 'FLOAT', 'NULLABLE', None, None, (), None), SchemaField('TANF_FF', 'FLOAT', 'NULLABLE', None, None, (), None), SchemaField('TANF_OF', 'FLOAT', 'NULLABLE', None, None, (), None), SchemaField('TANF_BF', 'FLOAT', 'NULLABLE', None, None, (), None), SchemaField('TANF_TOT', 'FLOAT', 'NULLABLE', None, None, (), None), SchemaField('OTCA_GF', 'FLOAT', 'NULLABLE', None, None, (), None), SchemaField('OTCA_FF', 'FLOAT', 'NULLABLE', None, None, (), None), SchemaField('OTCA_OF', 'FLOAT', 'NULLABLE', None, None, (), None), SchemaField('OTCA_BF', 'FLOAT', 'NULLABLE', None, None, (), None), SchemaField('OTCA_TOT', 'FLOAT', 'NULLABLE', None, None, (), None), SchemaField('MCAID_GF', 'FLOAT', 'NULLABLE', None, None, (), None), SchemaField('MCAID_FF', 'FLOAT', 'NULLABLE', None, None, (), None), SchemaField('MCAID_OF', 'FLOAT', 'NULLABLE', None, None, (), None), SchemaField('MCAID_BF', 'FLOAT', 'NULLABLE', None, None, (), None), SchemaField('MCAID_TOT', 'FLOAT', 'NULLABLE', None, None, (), None), SchemaField('CORR_GF', 'FLOAT', 'NULLABLE', None, None, (), None), SchemaField('CORR_FF', 'FLOAT', 'NULLABLE', None, None, (), None), SchemaField('CORR_OF', 'FLOAT', 'NULLABLE', None, None, (), None), SchemaField('CORR_BF', 'FLOAT', 'NULLABLE', None, None, (), None), SchemaField('CORR_TOT', 'FLOAT', 'NULLABLE', None, None, (), None), SchemaField('TRANS_GF', 'FLOAT', 'NULLABLE', None, None, (), None), SchemaField('TRANS_FF', 'FLOAT', 'NULLABLE', None, None, (), None), SchemaField('TRANS_OF', 'FLOAT', 'NULLABLE', None, None, (), None), SchemaField('TRANS_BF', 'FLOAT', 'NULLABLE', None, None, (), None), SchemaField('TRANS_TOT', 'FLOAT', 'NULLABLE', None, None, (), None), SchemaField('OTHER_GF', 'FLOAT', 'NULLABLE', None, None, (), None), SchemaField('OTHER_FF', 'FLOAT', 'NULLABLE', None, None, (), None), SchemaField('OTHER_OF', 'FLOAT', 'NULLABLE', None, None, (), None), SchemaField('OTHER_BF', 'FLOAT', 'NULLABLE', None, None, (), None), SchemaField('OTHER_TOT', 'FLOAT', 'NULLABLE', None, None, (), None), SchemaField('ELCAP_GF', 'FLOAT', 'NULLABLE', None, None, (), None), SchemaField('ELCAP_FF', 'FLOAT', 'NULLABLE', None, None, (), None), SchemaField('ELCAP_OF', 'FLOAT', 'NULLABLE', None, None, (), None), SchemaField('ELCAP_BF', 'FLOAT', 'NULLABLE', None, None, (), None), SchemaField('ELCAP_TOT', 'FLOAT', 'NULLABLE', None, None, (), None), SchemaField('HEDCP_GF', 'FLOAT', 'NULLABLE', None, None, (), None), SchemaField('HEDCP_FF', 'FLOAT', 'NULLABLE', None, None, (), None), SchemaField('HEDCP_OF', 'FLOAT', 'NULLABLE', None, None, (), None), SchemaField('HEDCP_BF', 'FLOAT', 'NULLABLE', None, None, (), None), SchemaField('HEDCP_TOT', 'FLOAT', 'NULLABLE', None, None, (), None), SchemaField('CORCP_GF', 'FLOAT', 'NULLABLE', None, None, (), None), SchemaField('CORCP_FF', 'FLOAT', 'NULLABLE', None, None, (), None), SchemaField('CORCP_OF', 'FLOAT', 'NULLABLE', None, None, (), None), SchemaField('CORCP_BF', 'FLOAT', 'NULLABLE', None, None, (), None), SchemaField('CORCP_TOT', 'FLOAT', 'NULLABLE', None, None, (), None), SchemaField('TRCAP_GF', 'FLOAT', 'NULLABLE', None, None, (), None), SchemaField('TRCAP_FF', 'FLOAT', 'NULLABLE', None, None, (), None), SchemaField('TRCAP_OF', 'FLOAT', 'NULLABLE', None, None, (), None), SchemaField('TRCAP_BF', 'FLOAT', 'NULLABLE', None, None, (), None), SchemaField('TRCAP_TOT', 'FLOAT', 'NULLABLE', None, None, (), None), SchemaField('HSCAP_GF', 'FLOAT', 'NULLABLE', None, None, (), None), SchemaField('HSCAP_FF', 'FLOAT', 'NULLABLE', None, None, (), None), SchemaField('HSCAP_OF', 'FLOAT', 'NULLABLE', None, None, (), None), SchemaField('HSCAP_BF', 'FLOAT', 'NULLABLE', None, None, (), None), SchemaField('HSCAP_TOT', 'FLOAT', 'NULLABLE', None, None, (), None), SchemaField('ENVCP_GF', 'FLOAT', 'NULLABLE', None, None, (), None), SchemaField('ENVCP_FF', 'FLOAT', 'NULLABLE', None, None, (), None), SchemaField('ENVCP_OF', 'FLOAT', 'NULLABLE', None, None, (), None), SchemaField('ENVCP_BF', 'FLOAT', 'NULLABLE', None, None, (), None), SchemaField('ENVCP_TOT', 'FLOAT', 'NULLABLE', None, None, (), None), SchemaField('OTHCP_GF', 'FLOAT', 'NULLABLE', None, None, (), None), SchemaField('OTHCP_FF', 'FLOAT', 'NULLABLE', None, None, (), None), SchemaField('OTHCP_OF', 'FLOAT', 'NULLABLE', None, None, (), None), SchemaField('OTHCP_BF', 'FLOAT', 'NULLABLE', None, None, (), None), SchemaField('OTHCP_TOT', 'FLOAT', 'NULLABLE', None, None, (), None), SchemaField('GFTOT_CAPI', 'FLOAT', 'NULLABLE', None, None, (), None), SchemaField('FFTOT_CAPI', 'FLOAT', 'NULLABLE', None, None, (), None), SchemaField('OFTOT_CAPI', 'FLOAT', 'NULLABLE', None, None, (), None), SchemaField('BFTOT_CAPI', 'FLOAT', 'NULLABLE', None, None, (), None), SchemaField('TOTAL_CAPI', 'FLOAT', 'NULLABLE', None, None, (), None), SchemaField('GFTOT_CAP', 'FLOAT', 'NULLABLE', None, None, (), None), SchemaField('FFTOT_CAP', 'FLOAT', 'NULLABLE', None, None, (), None), SchemaField('OFTOT_CAP', 'FLOAT', 'NULLABLE', None, None, (), None), SchemaField('BFTOT_CAP', 'FLOAT', 'NULLABLE', None, None, (), None), SchemaField('TOTAL_CAP', 'FLOAT', 'NULLABLE', None, None, (), None)]\n",
            "Loaded 3636 rows.\n"
          ]
        }
      ]
    },
    {
      "cell_type": "markdown",
      "source": [
        "Adding crime_data"
      ],
      "metadata": {
        "id": "yRAFLMtwszkH"
      },
      "id": "yRAFLMtwszkH"
    },
    {
      "cell_type": "code",
      "source": [
        "from google.cloud import bigquery\n",
        "\n",
        "folder = \"Crime data\"\n",
        "file_name = \"*.csv\"\n",
        "table = \"crime_data\"\n",
        "\n",
        "\n",
        "#delimiter = \"\\t\"\n",
        "\n",
        "schema = [\n",
        "    bigquery.SchemaField(\"year\", \"INTEGER\", mode=\"REQUIRED\"),\n",
        "    bigquery.SchemaField(\"state\", \"STRING\", mode=\"REQUIRED\"),\n",
        "    bigquery.SchemaField(\"population\", \"FLOAT\", mode=\"REQUIRED\"),\n",
        "    bigquery.SchemaField(\"crime\", \"FLOAT\", mode=\"REQUIRED\"),\n",
        "    bigquery.SchemaField(\"crime_against_persons\", \"FLOAT\", mode=\"REQUIRED\"),\n",
        "    bigquery.SchemaField(\"crime_against_property\", \"FLOAT\", mode=\"REQUIRED\"),\n",
        "    bigquery.SchemaField(\"crime_against_society\", \"FLOAT\", mode=\"REQUIRED\"),\n",
        "    bigquery.SchemaField(\"_data_source\", \"STRING\", mode=\"REQUIRED\", default_value_expression=\"'CrimeData'\"),\n",
        "    bigquery.SchemaField(\"_load_time\", \"TIMESTAMP\", mode=\"REQUIRED\", default_value_expression=\"CURRENT_TIMESTAMP\"),\n",
        "]\n",
        "\n",
        "\n",
        "#create_load_table_from_csv(folder, file_name, table, schema, delimiter)\n",
        "create_load_table_from_csv(folder, file_name, table, schema)"
      ],
      "metadata": {
        "colab": {
          "base_uri": "https://localhost:8080/"
        },
        "id": "-E6HZ3F-Mrsd",
        "executionInfo": {
          "status": "ok",
          "timestamp": 1738897652468,
          "user_tz": 360,
          "elapsed": 3629,
          "user": {
            "displayName": "",
            "userId": ""
          }
        },
        "outputId": "dcd17285-8de9-43e2-90a2-e5a1edb3bf68"
      },
      "id": "-E6HZ3F-Mrsd",
      "execution_count": 31,
      "outputs": [
        {
          "output_type": "stream",
          "name": "stdout",
          "text": [
            "Created table crime_data\n",
            "[SchemaField('year', 'INTEGER', 'REQUIRED', None, None, (), None), SchemaField('state', 'STRING', 'REQUIRED', None, None, (), None), SchemaField('population', 'FLOAT', 'REQUIRED', None, None, (), None), SchemaField('crime', 'FLOAT', 'REQUIRED', None, None, (), None), SchemaField('crime_against_persons', 'FLOAT', 'REQUIRED', None, None, (), None), SchemaField('crime_against_property', 'FLOAT', 'REQUIRED', None, None, (), None), SchemaField('crime_against_society', 'FLOAT', 'REQUIRED', None, None, (), None)]\n",
            "Loaded 402 rows.\n"
          ]
        }
      ]
    },
    {
      "cell_type": "markdown",
      "source": [
        "Adding demographics"
      ],
      "metadata": {
        "id": "gFs1mUjrZMfs"
      },
      "id": "gFs1mUjrZMfs"
    },
    {
      "cell_type": "code",
      "source": [
        "from google.cloud import bigquery\n",
        "\n",
        "folder = \"Demographics\"\n",
        "file_name = \"*.csv\"\n",
        "table = \"demographics\"  # Fixed syntax error\n",
        "\n",
        "\n",
        "schema = [\n",
        "    bigquery.SchemaField(\"STATE\", \"STRING\", mode=\"REQUIRED\"),\n",
        "    bigquery.SchemaField(\"AGE\", \"FLOAT\", mode=\"NULLABLE\"),\n",
        "    bigquery.SchemaField(\"RACE\", \"STRING\", mode=\"REQUIRED\"),\n",
        "    bigquery.SchemaField(\"TOTAL HOUSING UNITS\", \"FLOAT\", mode=\"NULLABLE\"),\n",
        "    bigquery.SchemaField(\"_data_source\", \"STRING\", mode=\"REQUIRED\", default_value_expression=\"'Demographics'\"),\n",
        "    bigquery.SchemaField(\"_load_time\", \"TIMESTAMP\", mode=\"REQUIRED\", default_value_expression=\"CURRENT_TIMESTAMP\"),\n",
        "]\n",
        "\n",
        "create_load_table_from_csv(folder, file_name, table, schema)\n"
      ],
      "metadata": {
        "id": "Q9LBl9R7pjqk",
        "executionInfo": {
          "status": "ok",
          "timestamp": 1738897655535,
          "user_tz": 360,
          "elapsed": 3069,
          "user": {
            "displayName": "",
            "userId": ""
          }
        },
        "outputId": "5a6a7e4b-fcf9-4cb9-c037-2a4906f34335",
        "colab": {
          "base_uri": "https://localhost:8080/"
        }
      },
      "id": "Q9LBl9R7pjqk",
      "execution_count": 33,
      "outputs": [
        {
          "output_type": "stream",
          "name": "stdout",
          "text": [
            "Created table demographics\n",
            "[SchemaField('STATE', 'STRING', 'REQUIRED', None, None, (), None), SchemaField('AGE', 'FLOAT', 'NULLABLE', None, None, (), None), SchemaField('RACE', 'STRING', 'REQUIRED', None, None, (), None), SchemaField('TOTAL HOUSING UNITS', 'FLOAT', 'NULLABLE', None, None, (), None)]\n",
            "Loaded 188 rows.\n"
          ]
        }
      ]
    },
    {
      "cell_type": "markdown",
      "source": [
        "Load those CSVs (Unstructured Data) into Google BQ                 \n",
        "Adding state_energy_consumption"
      ],
      "metadata": {
        "id": "uYI7STBlVen3"
      },
      "id": "uYI7STBlVen3"
    },
    {
      "cell_type": "code",
      "source": [
        "folder = \"The unstructured data/llm_text\"\n",
        "file_name = \"*.csv\"\n",
        "table = \"state_energy_consumption\"\n",
        "delimiter =\",\"\n",
        "schema = [\n",
        "    bigquery.SchemaField(\"State\",\"STRING\", mode=\"REQUIRED\"),\n",
        "    bigquery.SchemaField(\"Year\",\"INTEGER\", mode=\"REQUIRED\"),\n",
        "    bigquery.SchemaField(\"Value\",\"FLOAT\", mode=\"REQUIRED\"),\n",
        "    bigquery.SchemaField(\"Sector\",\"STRING\", mode=\"REQUIRED\"),\n",
        "    bigquery.SchemaField(\"_data_source\", \"STRING\", mode=\"REQUIRED\", default_value_expression=\"'Unstructured Data'\"),\n",
        "    bigquery.SchemaField(\"_load_time\", \"TIMESTAMP\", mode=\"REQUIRED\", default_value_expression=\"CURRENT_TIMESTAMP\"),\n",
        "]\n",
        "create_load_table_from_csv(folder, file_name, table, schema, delimiter)"
      ],
      "metadata": {
        "id": "RUmYFcWZVhJ9",
        "colab": {
          "base_uri": "https://localhost:8080/"
        },
        "executionInfo": {
          "status": "ok",
          "timestamp": 1738897665111,
          "user_tz": 360,
          "elapsed": 9578,
          "user": {
            "displayName": "",
            "userId": ""
          }
        },
        "outputId": "712c0d22-a972-473d-d761-d95c195022af"
      },
      "id": "RUmYFcWZVhJ9",
      "execution_count": 34,
      "outputs": [
        {
          "output_type": "stream",
          "name": "stdout",
          "text": [
            "Created table state_energy_consumption\n",
            "[SchemaField('State', 'STRING', 'REQUIRED', None, None, (), None), SchemaField('Year', 'INTEGER', 'REQUIRED', None, None, (), None), SchemaField('Value', 'FLOAT', 'REQUIRED', None, None, (), None), SchemaField('Sector', 'STRING', 'REQUIRED', None, None, (), None)]\n",
            "Loaded 12800 rows.\n"
          ]
        }
      ]
    },
    {
      "cell_type": "markdown",
      "source": [
        "Adding state_level_unemployment_data"
      ],
      "metadata": {
        "id": "5aPfd2d-tRRh"
      },
      "id": "5aPfd2d-tRRh"
    },
    {
      "cell_type": "code",
      "source": [
        "from google.cloud import bigquery\n",
        "\n",
        "folder = \"Labor market data\"\n",
        "file_name = \"*.csv\"\n",
        "table = \"state_level_unemployment_data\"  # Fixed syntax error\n",
        "\n",
        "schema = [\n",
        "    bigquery.SchemaField(\"FIPS Code\", \"STRING\", mode=\"REQUIRED\"),\n",
        "    bigquery.SchemaField(\"State and area\", \"STRING\", mode=\"NULLABLE\"),\n",
        "    bigquery.SchemaField(\"Period\", \"INTEGER\", mode=\"REQUIRED\"),\n",
        "    bigquery.SchemaField(\"Employment\", \"FLOAT\", mode=\"REQUIRED\"),\n",
        "    bigquery.SchemaField(\"Unemployment\", \"FLOAT\", mode=\"REQUIRED\"),\n",
        "    bigquery.SchemaField(\"_data_source\", \"STRING\", mode=\"REQUIRED\", default_value_expression=\"'Labor Market Data'\"),\n",
        "    bigquery.SchemaField(\"_load_time\", \"TIMESTAMP\", mode=\"REQUIRED\", default_value_expression=\"CURRENT_TIMESTAMP\"),\n",
        "]\n",
        "\n",
        "create_load_table_from_csv(folder, file_name, table, schema)"
      ],
      "metadata": {
        "colab": {
          "base_uri": "https://localhost:8080/"
        },
        "id": "VkO2SVRsJHqQ",
        "executionInfo": {
          "status": "ok",
          "timestamp": 1738897669104,
          "user_tz": 360,
          "elapsed": 3994,
          "user": {
            "displayName": "",
            "userId": ""
          }
        },
        "outputId": "6e6a65c6-a101-4362-c327-c56b6f7790d0"
      },
      "id": "VkO2SVRsJHqQ",
      "execution_count": 37,
      "outputs": [
        {
          "output_type": "stream",
          "name": "stdout",
          "text": [
            "Created table state_level_unemployment_data\n",
            "[SchemaField('FIPS Code', 'STRING', 'REQUIRED', None, None, (), None), SchemaField('State and area', 'STRING', 'NULLABLE', None, None, (), None), SchemaField('Period', 'INTEGER', 'REQUIRED', None, None, (), None), SchemaField('Employment', 'FLOAT', 'REQUIRED', None, None, (), None), SchemaField('Unemployment', 'FLOAT', 'REQUIRED', None, None, (), None)]\n",
            "Loaded 31111 rows.\n"
          ]
        }
      ]
    },
    {
      "cell_type": "markdown",
      "source": [
        "Make every column name lower case and using underscore to connect words"
      ],
      "metadata": {
        "id": "Du_o4SI5rwBB"
      },
      "id": "Du_o4SI5rwBB"
    },
    {
      "cell_type": "code",
      "source": [
        "from google.cloud import bigquery\n",
        "\n",
        "def normalize_table_schema(project_id, dataset, table):\n",
        "    client = bigquery.Client()\n",
        "    table_id = f\"{project_id}.{dataset}.{table}\"\n",
        "\n",
        "    table_ref = client.get_table(table_id)\n",
        "    original_schema = table_ref.schema\n",
        "\n",
        "\n",
        "    new_schema = [\n",
        "        bigquery.SchemaField(field.name.lower().replace(\" \", \"_\"), field.field_type)\n",
        "        for field in original_schema\n",
        "    ]\n",
        "\n",
        "\n",
        "    temp_table_id = f\"{project_id}.{dataset}.{table}_temp\"\n",
        "\n",
        "\n",
        "    try:\n",
        "        client.delete_table(temp_table_id)\n",
        "        print(f\"Deleted existing temp table {temp_table_id}\")\n",
        "    except:\n",
        "        pass\n",
        "\n",
        "    temp_table = bigquery.Table(temp_table_id, schema=new_schema)\n",
        "    client.create_table(temp_table)\n",
        "    print(f\"Created new table {temp_table_id}\")\n",
        "\n",
        "    copy_query = f\"\"\"\n",
        "    INSERT INTO `{temp_table_id}`\n",
        "    SELECT * FROM `{table_id}`\n",
        "    \"\"\"\n",
        "    client.query(copy_query).result()\n",
        "    print(f\"Copied data to {temp_table_id}\")\n",
        "\n",
        "    client.delete_table(table_id)\n",
        "    print(f\"Deleted old table {table_id}\")\n",
        "\n",
        "    rename_query = f\"\"\"\n",
        "    ALTER TABLE `{temp_table_id}` RENAME TO `{table}`\n",
        "    \"\"\"\n",
        "    client.query(rename_query).result()\n",
        "    print(f\"Renamed {temp_table_id} to {table}\")\n",
        "\n",
        "    print(f\"Table {table} schema normalized successfully.\")\n",
        "\n",
        "client = bigquery.Client()\n",
        "tables = client.list_tables(f\"{project_id}.{dataset}\")\n",
        "project_id = \"steady-service-448416-k2\"\n",
        "dataset = \"finance_economics_events_raw\"\n",
        "\n",
        "for table in tables:\n",
        "    table_name = table.table_id\n",
        "    print(f\"Processing table: {table_name}\")\n",
        "    normalize_table_schema(project_id, dataset, table_name)\n"
      ],
      "metadata": {
        "colab": {
          "base_uri": "https://localhost:8080/"
        },
        "id": "2EYsWQ-wgbyN",
        "executionInfo": {
          "status": "ok",
          "timestamp": 1738897901108,
          "user_tz": 360,
          "elapsed": 38314,
          "user": {
            "displayName": "",
            "userId": ""
          }
        },
        "outputId": "ac306e35-75aa-4ee4-aa65-e9db21509c09"
      },
      "id": "2EYsWQ-wgbyN",
      "execution_count": 40,
      "outputs": [
        {
          "output_type": "stream",
          "name": "stdout",
          "text": [
            "Processing table: crime_data\n",
            "Created new table steady-service-448416-k2.finance_economics_events_raw.crime_data_temp\n",
            "Copied data to steady-service-448416-k2.finance_economics_events_raw.crime_data_temp\n",
            "Deleted old table steady-service-448416-k2.finance_economics_events_raw.crime_data\n",
            "Renamed steady-service-448416-k2.finance_economics_events_raw.crime_data_temp to crime_data\n",
            "Table crime_data schema normalized successfully.\n",
            "Processing table: demographics\n",
            "Created new table steady-service-448416-k2.finance_economics_events_raw.demographics_temp\n",
            "Copied data to steady-service-448416-k2.finance_economics_events_raw.demographics_temp\n",
            "Deleted old table steady-service-448416-k2.finance_economics_events_raw.demographics\n",
            "Renamed steady-service-448416-k2.finance_economics_events_raw.demographics_temp to demographics\n",
            "Table demographics schema normalized successfully.\n",
            "Processing table: gdp\n",
            "Created new table steady-service-448416-k2.finance_economics_events_raw.gdp_temp\n",
            "Copied data to steady-service-448416-k2.finance_economics_events_raw.gdp_temp\n",
            "Deleted old table steady-service-448416-k2.finance_economics_events_raw.gdp\n",
            "Renamed steady-service-448416-k2.finance_economics_events_raw.gdp_temp to gdp\n",
            "Table gdp schema normalized successfully.\n",
            "Processing table: mortality_and_natality\n",
            "Created new table steady-service-448416-k2.finance_economics_events_raw.mortality_and_natality_temp\n",
            "Copied data to steady-service-448416-k2.finance_economics_events_raw.mortality_and_natality_temp\n",
            "Deleted old table steady-service-448416-k2.finance_economics_events_raw.mortality_and_natality\n",
            "Renamed steady-service-448416-k2.finance_economics_events_raw.mortality_and_natality_temp to mortality_and_natality\n",
            "Table mortality_and_natality schema normalized successfully.\n",
            "Processing table: state_energy_consumption\n",
            "Created new table steady-service-448416-k2.finance_economics_events_raw.state_energy_consumption_temp\n",
            "Copied data to steady-service-448416-k2.finance_economics_events_raw.state_energy_consumption_temp\n",
            "Deleted old table steady-service-448416-k2.finance_economics_events_raw.state_energy_consumption\n",
            "Renamed steady-service-448416-k2.finance_economics_events_raw.state_energy_consumption_temp to state_energy_consumption\n",
            "Table state_energy_consumption schema normalized successfully.\n",
            "Processing table: state_exp_data_1991_2024\n",
            "Created new table steady-service-448416-k2.finance_economics_events_raw.state_exp_data_1991_2024_temp\n",
            "Copied data to steady-service-448416-k2.finance_economics_events_raw.state_exp_data_1991_2024_temp\n",
            "Deleted old table steady-service-448416-k2.finance_economics_events_raw.state_exp_data_1991_2024\n",
            "Renamed steady-service-448416-k2.finance_economics_events_raw.state_exp_data_1991_2024_temp to state_exp_data_1991_2024\n",
            "Table state_exp_data_1991_2024 schema normalized successfully.\n",
            "Processing table: state_exp_data_1991_2024_key\n",
            "Created new table steady-service-448416-k2.finance_economics_events_raw.state_exp_data_1991_2024_key_temp\n",
            "Copied data to steady-service-448416-k2.finance_economics_events_raw.state_exp_data_1991_2024_key_temp\n",
            "Deleted old table steady-service-448416-k2.finance_economics_events_raw.state_exp_data_1991_2024_key\n",
            "Renamed steady-service-448416-k2.finance_economics_events_raw.state_exp_data_1991_2024_key_temp to state_exp_data_1991_2024_key\n",
            "Table state_exp_data_1991_2024_key schema normalized successfully.\n",
            "Processing table: state_level_unemployment_data\n",
            "Created new table steady-service-448416-k2.finance_economics_events_raw.state_level_unemployment_data_temp\n",
            "Copied data to steady-service-448416-k2.finance_economics_events_raw.state_level_unemployment_data_temp\n",
            "Deleted old table steady-service-448416-k2.finance_economics_events_raw.state_level_unemployment_data\n",
            "Renamed steady-service-448416-k2.finance_economics_events_raw.state_level_unemployment_data_temp to state_level_unemployment_data\n",
            "Table state_level_unemployment_data schema normalized successfully.\n",
            "Processing table: us_geocode\n",
            "Created new table steady-service-448416-k2.finance_economics_events_raw.us_geocode_temp\n",
            "Copied data to steady-service-448416-k2.finance_economics_events_raw.us_geocode_temp\n",
            "Deleted old table steady-service-448416-k2.finance_economics_events_raw.us_geocode\n",
            "Renamed steady-service-448416-k2.finance_economics_events_raw.us_geocode_temp to us_geocode\n",
            "Table us_geocode schema normalized successfully.\n"
          ]
        }
      ]
    }
  ],
  "metadata": {
    "kernelspec": {
      "display_name": "Python 3",
      "language": "python",
      "name": "python3"
    },
    "language_info": {
      "codemirror_mode": {
        "name": "ipython",
        "version": 3
      },
      "file_extension": ".py",
      "mimetype": "text/x-python",
      "name": "python",
      "nbconvert_exporter": "python",
      "pygments_lexer": "ipython3",
      "version": "3.10.10"
    },
    "colab": {
      "provenance": [],
      "name": "baroncai001 (Jan 31, 2025, 4:15:40 PM)"
    }
  },
  "nbformat": 4,
  "nbformat_minor": 5
}