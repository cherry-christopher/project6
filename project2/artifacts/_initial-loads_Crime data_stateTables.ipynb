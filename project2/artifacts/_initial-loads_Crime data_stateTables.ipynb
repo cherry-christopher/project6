{
 "cells": [
  {
   "cell_type": "code",
   "execution_count": null,
   "id": "33e3d895-1722-45f7-b54c-3999372dffe3",
   "metadata": {},
   "outputs": [],
   "source": [
    "!pip install pandas\n",
    "!pip install openpyxl"
   ]
  },
  {
   "cell_type": "code",
   "execution_count": null,
   "id": "8cd197fa-cf6a-409b-a808-2460fb296a1e",
   "metadata": {},
   "outputs": [],
   "source": [
    "import os\n",
    "import pandas as pd\n",
    "\n",
    "folder_path = \"merged\"\n",
    "\n",
    "data_list = []\n",
    "\n",
    "for file in os.listdir(folder_path):\n",
    "    if file.endswith(\".xls\") or file.endswith(\".xlsx\"):\n",
    "        file_path = os.path.join(folder_path, file)\n",
    "\n",
    "        file_name = os.path.splitext(file)[0]\n",
    "        parts = file_name.split(\"_\")\n",
    "\n",
    "        year = parts[-1]\n",
    "\n",
    "        if \"Offense\" in parts:\n",
    "            offense_index = parts.index(\"Offense\")\n",
    "            state = \"_\".join(parts[:offense_index])\n",
    "        else:\n",
    "            state = \"Unknown\"\n",
    "\n",
    "        df = pd.read_excel(file_path, header=None)\n",
    "\n",
    "        population_sum = pd.to_numeric(df.iloc[5:, 2], errors='coerce').sum()\n",
    "        crime_sum = pd.to_numeric(df.iloc[5:, 3], errors='coerce').sum()\n",
    "        crime_against_persons_sum = pd.to_numeric(df.iloc[5:, 4], errors='coerce').sum()\n",
    "        crime_against_property_sum = pd.to_numeric(df.iloc[5:, 5], errors='coerce').sum()\n",
    "        crime_against_society_sum = pd.to_numeric(df.iloc[5:, 6], errors='coerce').sum()\n",
    "        data_list.append([year, state, population_sum, crime_sum, crime_against_persons_sum, crime_against_property_sum, crime_against_society_sum])\n",
    "\n",
    "summary_df = pd.DataFrame(data_list, columns=[\"year\", \"state\", \"population\", \"crime\", \"crime_against_persons\", \"crime_against_property\", \"crime_against_society\"])\n",
    "\n",
    "summary_path = os.path.join(folder_path, \"summary.csv\")\n",
    "summary_df.to_csv(summary_path, index=False)\n",
    "\n",
    "print(\"Finished.\")\n"
   ]
  }
 ],
 "metadata": {
  "kernelspec": {
   "display_name": "Python 3 (ipykernel)",
   "language": "python",
   "name": "python3"
  },
  "language_info": {
   "codemirror_mode": {
    "name": "ipython",
    "version": 3
   },
   "file_extension": ".py",
   "mimetype": "text/x-python",
   "name": "python",
   "nbconvert_exporter": "python",
   "pygments_lexer": "ipython3",
   "version": "3.9.6"
  }
 },
 "nbformat": 4,
 "nbformat_minor": 5
}
